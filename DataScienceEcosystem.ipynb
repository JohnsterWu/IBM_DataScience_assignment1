{
  "metadata": {
    "kernelspec": {
      "name": "python",
      "display_name": "Python (Pyodide)",
      "language": "python"
    },
    "language_info": {
      "codemirror_mode": {
        "name": "python",
        "version": 3
      },
      "file_extension": ".py",
      "mimetype": "text/x-python",
      "name": "python",
      "nbconvert_exporter": "python",
      "pygments_lexer": "ipython3",
      "version": "3.8"
    }
  },
  "nbformat_minor": 5,
  "nbformat": 4,
  "cells": [
    {
      "id": "19b2e3a0-514e-4261-bf33-8a40db9ee10f",
      "cell_type": "markdown",
      "source": "# Data Science Tools and Ecosystem",
      "metadata": {}
    },
    {
      "id": "689eb939-40d1-4059-b6b7-c4f2d7796e07",
      "cell_type": "markdown",
      "source": "In this notebook, Data Science Tools and Ecosystem are Summarized",
      "metadata": {}
    },
    {
      "id": "7d1b3a4d-d177-429a-8dab-eacd666a0312",
      "cell_type": "markdown",
      "source": "## Author\nHoucheng Wu",
      "metadata": {}
    },
    {
      "id": "ff29215a-84be-4826-b44f-f70d69873db2",
      "cell_type": "markdown",
      "source": "**Objectives:**\n- List popular languages for data science\n- List some popular data science tools\n- Do some arithmetic calculations",
      "metadata": {}
    },
    {
      "id": "06c0d266-92e9-4beb-873a-0b7d74526fe2",
      "cell_type": "markdown",
      "source": "Some of the popular languages that Data Scientists use are: Python, R and Scala.",
      "metadata": {}
    },
    {
      "id": "d2a4473a-13c0-4392-9c97-b775b02378ca",
      "cell_type": "markdown",
      "source": "Some of the commonly used libraries used by Data Scientists include: Numpy, matplotlib and pandas",
      "metadata": {}
    },
    {
      "id": "a75bcddc-f704-4a7a-a2a4-8de20cd0fba9",
      "cell_type": "markdown",
      "source": "|Data Science tools|\n|:----------------:|\n|Jupyter Notebook  |\n|VS code           |\n|R studio          |",
      "metadata": {}
    },
    {
      "id": "7ed16eb8-839f-433a-aced-db69e220c143",
      "cell_type": "markdown",
      "source": "### Below are a few examples of evaluating arithmetic expressions in Python",
      "metadata": {}
    },
    {
      "id": "5660c725-f881-4e9c-a72e-25103283e5f7",
      "cell_type": "code",
      "source": "(3*4)+5 # This a simple arithmetic expression to multiply then add integers",
      "metadata": {
        "trusted": true
      },
      "outputs": [
        {
          "execution_count": 1,
          "output_type": "execute_result",
          "data": {
            "text/plain": "17"
          },
          "metadata": {}
        }
      ],
      "execution_count": 1
    },
    {
      "id": "d77f6358-4d55-4f62-b7eb-118cef660189",
      "cell_type": "code",
      "source": "minutes = 200\nhours = minutes/60 # This will convert 200 minutes to hours by dividing by 60\nhours",
      "metadata": {
        "trusted": true
      },
      "outputs": [
        {
          "execution_count": 3,
          "output_type": "execute_result",
          "data": {
            "text/plain": "3.3333333333333335"
          },
          "metadata": {}
        }
      ],
      "execution_count": 3
    },
    {
      "id": "997e6fc3-61cf-4fc2-8f6f-cec67445f2a9",
      "cell_type": "code",
      "source": "",
      "metadata": {
        "trusted": true
      },
      "outputs": [],
      "execution_count": null
    }
  ]
}